{
 "cells": [
  {
   "cell_type": "markdown",
   "metadata": {},
   "source": [
    "<img src=\"https://raw.githubusercontent.com/alan-barzilay/NLPortugues/master/imagens/logo_nlportugues.png\"  style=\"height:65%\" align=\"right\">\n",
    "\n",
    "\n",
    "# Lista 2 - NN & Backpropagation\n",
    "**Nome:**\n",
    "\n",
    "**Numero Usp:**\n",
    "\n",
    "\n",
    "_________________________________________\n",
    "\n",
    "Antes de começar o exercício,  não se esqueça de instalar todos os pacotes necessários para a sua execução.  "
   ]
  },
  {
   "cell_type": "code",
   "execution_count": 1,
   "metadata": {},
   "outputs": [
    {
     "data": {
      "text/plain": [
       "'2.2.0-rc3'"
      ]
     },
     "execution_count": 1,
     "metadata": {},
     "output_type": "execute_result"
    }
   ],
   "source": [
    "import tensorflow as tf\n",
    "import pandas as pd\n",
    "import numpy as np\n",
    "import matplotlib.pyplot as plt\n",
    "import seaborn as sns\n",
    "from tensorflow import keras\n",
    "from sklearn.model_selection import train_test_split\n",
    "%matplotlib inline\n",
    "tf.__version__"
   ]
  },
  {
   "cell_type": "markdown",
   "metadata": {},
   "source": [
    "## Perceptron\n",
    "\n",
    "O perceptron é uma \"rede neural\" de um só neurônio.  No nosso caso, temos a rede mais simpes possível, com uma só entrada e uma só saída, sem ativação.\n",
    "\n",
    "Temos 100 dados que serão usados para treinar 300 épocas do percéptron.\n",
    "\n",
    "Vamos utilizar o modelo perceptron para aprender uma simples regressão linear, o objetivo é faze-lo aprender uma simples equação linear e tambem se acostumar com a sintaxe e funcionamento do TensorFlow\n"
   ]
  },
  {
   "cell_type": "code",
   "execution_count": null,
   "metadata": {},
   "outputs": [],
   "source": [
    "def f1(x):\n",
    "    '''\n",
    "    Funcao a ser aprendida\n",
    "    '''\n",
    "    return 5 + 10*x"
   ]
  },
  {
   "cell_type": "code",
   "execution_count": null,
   "metadata": {},
   "outputs": [],
   "source": [
    "xs = np.linspace(0,10,100)  # gera 100 valores no intervalo [0.10]\n",
    "ys = f1(xs)                 # computa o valor de f1 nestes 100 valores\n",
    "print(len(xs), \"xs=\", xs)\n",
    "print(len(ys), \"ys=\", ys)\n"
   ]
  },
  {
   "cell_type": "code",
   "execution_count": null,
   "metadata": {
    "scrolled": true
   },
   "outputs": [],
   "source": [
    "#Definindo, compilando e treinando nosso modelo\n",
    "model = tf.keras.Sequential([\n",
    "    keras.Input(shape=(1,)),\n",
    "    keras.layers.Dense(units=1),\n",
    "])\n",
    "\n",
    "model.compile(optimizer=\"sgd\", loss=\"mean_squared_error\")\n",
    "model.fit(xs,ys,epochs=300)"
   ]
  },
  {
   "cell_type": "code",
   "execution_count": null,
   "metadata": {},
   "outputs": [],
   "source": [
    "model.summary()"
   ]
  },
  {
   "cell_type": "code",
   "execution_count": null,
   "metadata": {},
   "outputs": [],
   "source": [
    "print(\"prediction: \"+ str(model.predict([17]))+\"      real value: \" + str(f1(17)))"
   ]
  },
  {
   "cell_type": "code",
   "execution_count": null,
   "metadata": {},
   "outputs": [],
   "source": [
    "val = np.linspace(0,10,63)\n",
    "model.evaluate(x=val, y=f1(val))"
   ]
  },
  {
   "cell_type": "markdown",
   "metadata": {},
   "source": [
    "A função `evaluate` retorna o \"custo\" (loss) da avaliação, definido na compilação.  Nesse caso, o valor reportado é o erro quadrático médio (MSE). "
   ]
  },
  {
   "cell_type": "markdown",
   "metadata": {},
   "source": [
    "## Aprendendo uma função não linear"
   ]
  },
  {
   "cell_type": "code",
   "execution_count": null,
   "metadata": {},
   "outputs": [],
   "source": [
    "def f2(x):\n",
    "    '''\n",
    "    Funcao não linear a ser aprendida\n",
    "    '''\n",
    "    return (x**2 + x*3 + 4)/200"
   ]
  },
  {
   "cell_type": "code",
   "execution_count": null,
   "metadata": {},
   "outputs": [],
   "source": [
    "x = np.linspace(0,10,100)\n",
    "y = f2(x)"
   ]
  },
  {
   "cell_type": "markdown",
   "metadata": {},
   "source": [
    "# <font color='blue'>Questão 1 </font>\n",
    "Defina as camadas para esta rede neural e treine seu modelo, note que a saída unitária _não deve_ ter função de ativação (por que?)."
   ]
  },
  {
   "cell_type": "code",
   "execution_count": null,
   "metadata": {},
   "outputs": [],
   "source": [
    "model = tf.keras.Sequential([    \n",
    "    keras.Input(shape=(1,)),\n",
    "    #Seu código aqui\n",
    "\n",
    "])\n",
    "\n",
    "model.compile(optimizer=\"adam\", loss=\"mean_squared_error\")\n",
    "model.fit(x,y,epochs=400)"
   ]
  },
  {
   "cell_type": "code",
   "execution_count": null,
   "metadata": {},
   "outputs": [],
   "source": [
    "model.summary()"
   ]
  },
  {
   "cell_type": "code",
   "execution_count": null,
   "metadata": {},
   "outputs": [],
   "source": [
    "x_val = np.linspace(0,10,63)\n",
    "y_val = f2(x_val)"
   ]
  },
  {
   "cell_type": "code",
   "execution_count": null,
   "metadata": {},
   "outputs": [],
   "source": [
    "model.evaluate(x=x_val,y=y_val)"
   ]
  },
  {
   "cell_type": "markdown",
   "metadata": {},
   "source": [
    "____________________________\n",
    "# <font color='blue'>Questão 2 </font>\n",
    "\n",
    "\n",
    "\n",
    "O que acontece se você muda as funções de ativação? Teste algumas diferentes e descreva seus resultados, em especial a tangente hiperbolica\n",
    "\n"
   ]
  },
  {
   "cell_type": "markdown",
   "metadata": {},
   "source": [
    "\n",
    "**<font color='red'> Sua resposta aqui </font>**"
   ]
  },
  {
   "cell_type": "markdown",
   "metadata": {},
   "source": [
    "\n",
    "O que acontece se você mudar a função de otimização? Teste diferentes funções e descreva seus resultados, em especial as funções SDG e RMSprop\n"
   ]
  },
  {
   "cell_type": "markdown",
   "metadata": {},
   "source": [
    "\n",
    "**<font color='red'> Sua resposta aqui </font>**"
   ]
  },
  {
   "cell_type": "markdown",
   "metadata": {},
   "source": [
    "Volte a primeira parte desse notebook e troque a função de ativação da rede de uma camada (pérceptron) de sdg para adam, o que acontece?\n",
    "\n"
   ]
  },
  {
   "cell_type": "markdown",
   "metadata": {},
   "source": [
    "\n",
    "**<font color='red'> Sua resposta aqui </font>**"
   ]
  },
  {
   "cell_type": "markdown",
   "metadata": {},
   "source": [
    "A avaliação de performance que realizamos foi apenas para pontos contidos no mesmo intervalo que o conjunto de treino, ou seja, foi apenas uma interpolação. Sem alterar sua rede repita o teste realizando uma extrapolação, com pontos fora do intervalo [0;10] e descreva seus resultados. O que aconteceu com a performance?"
   ]
  },
  {
   "cell_type": "code",
   "execution_count": null,
   "metadata": {},
   "outputs": [],
   "source": [
    "# Seu código aqui"
   ]
  },
  {
   "cell_type": "markdown",
   "metadata": {},
   "source": [
    "\n",
    "**<font color='red'> Sua resposta aqui </font>**"
   ]
  },
  {
   "cell_type": "markdown",
   "metadata": {},
   "source": [
    "# Prevendo se vai chover na Austrália"
   ]
  },
  {
   "cell_type": "markdown",
   "metadata": {},
   "source": [
    "## Pré processamento dos dados\n",
    "Já definimos uma função basica para lhe ajudar a explorar os dados, você precisara escrever uma função para carregar os dados, uma de pré-processamento e outra para fazer a separação em teste e treino."
   ]
  },
  {
   "cell_type": "code",
   "execution_count": null,
   "metadata": {},
   "outputs": [],
   "source": [
    "def visualize_data(data):\n",
    "    \"\"\"Gera graficos das distribuicoes das features e salva em disco\"\"\"\n",
    "\n",
    "    ibm_pltt = ['#648FFF', '#785EF0', '#DC267F',\n",
    "                '#FE6100', '#FFB000']  # Paleta colorblind-friendly\n",
    "    plt.figure(figsize=(8, 6))\n",
    "\n",
    "    # RainToday:\n",
    "    sns.set()\n",
    "    sns.set_palette(sns.color_palette([ibm_pltt[2], ibm_pltt[0]]))\n",
    "    sns.countplot(data.RainToday)\n",
    "    plt.xlabel('Choveu Hoje?')\n",
    "    plt.ylabel('Contagem')\n",
    "    plt.title(\"Valores de 'RainToday' para os dados pré-processados\")\n",
    "    plt.savefig('data_RainToday.png')\n",
    "    plt.clf()\n",
    "\n",
    "    # RainTomorrow:\n",
    "    sns.set()\n",
    "    sns.set_palette(sns.color_palette([ibm_pltt[3], ibm_pltt[1]]))\n",
    "    sns.countplot(data.RainTomorrow)\n",
    "    plt.xlabel('Choverá Amanhã?')\n",
    "    plt.ylabel('Contagem')\n",
    "    plt.title(\"Valores de 'RainTomorrow' para os dados pré-processados\")\n",
    "    plt.savefig('data_Rainomorrow.png')\n",
    "    plt.clf()\n",
    "\n",
    "    # Humidity3pm:\n",
    "    sns.set()\n",
    "    sns.distplot(data.Humidity3pm, color=ibm_pltt[0])\n",
    "    plt.xlabel('Umidade às 3PM')\n",
    "    plt.ylabel('Densidade normalizada')\n",
    "    plt.title(\"Distribuição da variável 'Humidity3pm' para os dados pré-processados\")\n",
    "    plt.savefig('data_Humidity3pm.png')\n",
    "    plt.clf()\n",
    "\n",
    "    # Pressure9am:\n",
    "    sns.set()\n",
    "    sns.distplot(data.Pressure9am, color=ibm_pltt[4])\n",
    "    plt.xlabel('Pressão atmosférica às 9AM')\n",
    "    plt.ylabel('Densidade normalizada')\n",
    "    plt.title(\"Distribuição da variável 'Pressure9amm' para os dados pré-processados\")\n",
    "    plt.savefig('data_Pressure9am.png')\n",
    "    plt.clf()\n",
    "\n",
    "    # Rainfall:\n",
    "    sns.set()\n",
    "    sns.distplot(data.Rainfall, color=ibm_pltt[1], bins=500, kde=False)\n",
    "    plt.xlim(0, 10)\n",
    "    plt.xlabel('Pluviosidade')\n",
    "    plt.ylabel('Densidade normalizada')\n",
    "    plt.title(\"Distribuição da variável 'Rainfall' para os dados pré-processados\")\n",
    "    plt.savefig('data_Rainfall.png')\n",
    "    plt.clf()\n",
    "\n",
    "    return\n"
   ]
  },
  {
   "cell_type": "markdown",
   "metadata": {},
   "source": [
    "# <font color='blue'>Questão 3 </font>\n",
    "Complete as funções aqui descritas seguindo a assinatura sugerida\n",
    "\n",
    "Para separar em treino e teste, de uma olhada na função [train_test_split()](https://scikit-learn.org/stable/modules/generated/sklearn.model_selection.train_test_split.html) do Scikit-Learn"
   ]
  },
  {
   "cell_type": "code",
   "execution_count": null,
   "metadata": {},
   "outputs": [],
   "source": [
    "def load_data(data_path='data/weatherAUS.csv')-> pd.DataFrame:\n",
    "    \"\"\"Funcao que importa dados de um arquivo csv, usando pandas\"\"\"\n",
    "    #Seu código aqui\n",
    "\n",
    "    return raw_data\n",
    "\n",
    "def pre_processing(raw_data:pd.DataFrame)-> pd.DataFrame:\n",
    "    \"\"\"Funcao que filtra e limpa os dados meteorologicos para o treinamento\"\"\"\n",
    "    #Seu código aqui\n",
    "    \n",
    "\n",
    "    return processed_data\n",
    "\n",
    "\n",
    "def split_data(data:pd.DataFrame, val_size= 0.2)-> np.array:\n",
    "    \"\"\"Funcao que separa seus dados em teste e treino conforme a proporcao val_size\"\"\"\n",
    "    #Seu código aqui\n",
    "    \n",
    "   \n",
    "    return x_train, x_val, y_train, y_val\n"
   ]
  },
  {
   "cell_type": "code",
   "execution_count": null,
   "metadata": {},
   "outputs": [],
   "source": [
    "df = load_data()\n",
    "visualize_data(df)\n",
    "df = pre_processing(df)\n",
    "x_train, x_val, y_train, y_val = split_data(df,)"
   ]
  },
  {
   "cell_type": "markdown",
   "metadata": {},
   "source": [
    "# <font color='blue'>Questão 4 </font>\n",
    "Agora que você ja ganhou uma familiaridade com a API Keras, escreva sozinho do começo ao fim um modelo que ira dizer se amanhã vai chover ou não e avalie sua performance.\n"
   ]
  },
  {
   "cell_type": "code",
   "execution_count": null,
   "metadata": {},
   "outputs": [],
   "source": [
    "# Seu código aqui"
   ]
  }
 ],
 "metadata": {
  "kernelspec": {
   "display_name": ".venv_tutorial",
   "language": "python",
   "name": ".venv_tutorial"
  },
  "language_info": {
   "codemirror_mode": {
    "name": "ipython",
    "version": 3
   },
   "file_extension": ".py",
   "mimetype": "text/x-python",
   "name": "python",
   "nbconvert_exporter": "python",
   "pygments_lexer": "ipython3",
   "version": "3.8.5"
  }
 },
 "nbformat": 4,
 "nbformat_minor": 4
}
